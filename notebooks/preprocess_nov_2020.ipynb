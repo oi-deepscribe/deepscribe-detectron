{
 "metadata": {
  "language_info": {
   "codemirror_mode": {
    "name": "ipython",
    "version": 3
   },
   "file_extension": ".py",
   "mimetype": "text/x-python",
   "name": "python",
   "nbconvert_exporter": "python",
   "pygments_lexer": "ipython3",
   "version": "3.7.8-final"
  },
  "orig_nbformat": 2,
  "kernelspec": {
   "name": "python37864bit32ffe0830bdc4e16bb70c3d448223acc",
   "display_name": "Python 3.7.8 64-bit"
  }
 },
 "nbformat": 4,
 "nbformat_minor": 2,
 "cells": [
  {
   "cell_type": "code",
   "execution_count": 13,
   "metadata": {},
   "outputs": [],
   "source": [
    "import json\n",
    "from sklearn.model_selection import train_test_split\n",
    "import os\n",
    "import shutil\n",
    "from detectron2.utils.visualizer import Visualizer\n",
    "from detectron2.data import MetadataCatalog, DatasetCatalog\n",
    "from typing import Dict\n",
    "from tqdm import tqdm\n",
    "from copy import deepcopy\n"
   ]
  },
  {
   "cell_type": "code",
   "execution_count": 3,
   "metadata": {},
   "outputs": [],
   "source": [
    "with open(\"../raw_ochre/imagesWithHotspots_nov_2020.txt\", \"r\") as infile:\n",
    "    annotations = [line.strip() for line in infile.readlines() if len(line.strip()) > 0]"
   ]
  },
  {
   "cell_type": "code",
   "execution_count": 6,
   "metadata": {},
   "outputs": [],
   "source": [
    "imagefolder = \"/local/ecw/deepscribe-detectron/archive/images_renamed\""
   ]
  },
  {
   "cell_type": "code",
   "execution_count": 7,
   "metadata": {},
   "outputs": [],
   "source": [
    "dataset = []\n",
    "# collecting all signs and readings to assign numerical IDs\n",
    "sign_ids = list()\n",
    "reading_ids = list()\n",
    "for anno in annotations:\n",
    "\n",
    "    textname, size, hotspots = anno.split(\":\")\n",
    "\n",
    "    uuid =  textname.split(\"_\")[0]\n",
    "\n",
    "    height, width = [int(val) for val in size.split(\"x\")]\n",
    "\n",
    "    fname = f\"{imagefolder}/{uuid}.jpg\"\n",
    "\n",
    "    assert os.path.exists(fname), f\"image file {fname} does not exist!\"\n",
    "\n",
    "    annos = []\n",
    "\n",
    "    for hotspot in hotspots.split(\";\"):\n",
    "        if len(hotspot) > 0:\n",
    "            classes, coordslist = hotspot.split(\"~\")\n",
    "            # Sandra Schloen, Nov 2019:\n",
    "            #Please note: when I created the new hotspots I labeled them with the signName_signUUID \n",
    "            # so that hotspot cutouts of the same sign would sort together in a folder. Previously when I\n",
    "            #  created this image list I used signUUID_signName, but this time I have swapped them to make\n",
    "            #  the format more consistent with the hotspot labels; that is, the Name now precedes the UUID\n",
    "            #  in this new image list too. You’ll need to adjust your code accordingly.\n",
    "\n",
    "            sign,reading = [elem.split(\"_\")[0] for elem in classes.split(\"/\")]\n",
    "\n",
    "            # assign the sign and reading ID \n",
    "    \n",
    "            if sign not in sign_ids:\n",
    "                sign_ids.append(sign)\n",
    "\n",
    "            sign_id = sign_ids.index(sign)\n",
    "\n",
    "            if reading not in reading_ids:\n",
    "                reading_ids.append(reading)\n",
    "\n",
    "            reading_id = reading_ids.index(reading)\n",
    "\n",
    "            coords = [float(coord) for coord in coordslist.split(\",\")]\n",
    "            # only 1 category for now - just sign or non-sign\n",
    "            annos.append({\"bbox\": coords, \"bbox_mode\":0, \"sign\":sign, \"reading\": reading, \"sign_id\": sign_id, \"reading_id\": reading_id, \"category_id\": sign_id})\n",
    "\n",
    "    dataset.append({\"file_name\":fname, \"height\":height, \"width\":width, \"image_id\": uuid, \"annotations\": annos})"
   ]
  },
  {
   "cell_type": "code",
   "execution_count": 12,
   "metadata": {},
   "outputs": [
    {
     "output_type": "stream",
     "name": "stderr",
     "text": [
      "  0%|          | 0/5013 [00:00<?, ?it/s]\n"
     ]
    },
    {
     "output_type": "error",
     "ename": "NameError",
     "evalue": "name 'deepcopy' is not defined",
     "traceback": [
      "\u001b[0;31m---------------------------------------------------------------------------\u001b[0m",
      "\u001b[0;31mNameError\u001b[0m                                 Traceback (most recent call last)",
      "\u001b[0;32m<ipython-input-12-b6a264b3f06c>\u001b[0m in \u001b[0;36m<module>\u001b[0;34m\u001b[0m\n\u001b[1;32m     10\u001b[0m \u001b[0;34m\u001b[0m\u001b[0m\n\u001b[1;32m     11\u001b[0m     \u001b[0;32mif\u001b[0m \u001b[0mlen\u001b[0m\u001b[0;34m(\u001b[0m\u001b[0mhotspot\u001b[0m\u001b[0;34m[\u001b[0m\u001b[0;34m\"annotations\"\u001b[0m\u001b[0;34m]\u001b[0m\u001b[0;34m)\u001b[0m \u001b[0;34m>\u001b[0m \u001b[0;36m1\u001b[0m\u001b[0;34m:\u001b[0m\u001b[0;34m\u001b[0m\u001b[0;34m\u001b[0m\u001b[0m\n\u001b[0;32m---> 12\u001b[0;31m         \u001b[0mnew_hotspot\u001b[0m \u001b[0;34m=\u001b[0m \u001b[0mdeepcopy\u001b[0m\u001b[0;34m(\u001b[0m\u001b[0mhotspot\u001b[0m\u001b[0;34m)\u001b[0m\u001b[0;34m\u001b[0m\u001b[0;34m\u001b[0m\u001b[0m\n\u001b[0m\u001b[1;32m     13\u001b[0m \u001b[0;34m\u001b[0m\u001b[0m\n\u001b[1;32m     14\u001b[0m         \u001b[0mpoints\u001b[0m \u001b[0;34m=\u001b[0m \u001b[0;34m[\u001b[0m\u001b[0manno\u001b[0m\u001b[0;34m[\u001b[0m\u001b[0;34m\"bbox\"\u001b[0m\u001b[0;34m]\u001b[0m \u001b[0;32mfor\u001b[0m \u001b[0manno\u001b[0m \u001b[0;32min\u001b[0m \u001b[0mhotspot\u001b[0m\u001b[0;34m[\u001b[0m\u001b[0;34m\"annotations\"\u001b[0m\u001b[0;34m]\u001b[0m\u001b[0;34m]\u001b[0m\u001b[0;34m\u001b[0m\u001b[0;34m\u001b[0m\u001b[0m\n",
      "\u001b[0;31mNameError\u001b[0m: name 'deepcopy' is not defined"
     ]
    }
   ],
   "source": [
    "# crop images to remove \"empty\" space of images\n",
    "autocropped_hotspots = []\n",
    "\n",
    "outfolder = \"/local/ecw/deepscribe-detectron/data_nov_2020/images_cropped\"\n",
    "annotated = \"/local/ecw/deepscribe-detectron/data_nov_2020/images_annotated\"\n",
    "\n",
    "for hotspot in tqdm(dataset):\n",
    "    # don't keep if there's only one sign!\n",
    "    # TODO: check thresholds here. \n",
    "\n",
    "    if len(hotspot[\"annotations\"]) > 1:\n",
    "        new_hotspot = deepcopy(hotspot)\n",
    "\n",
    "        points = [anno[\"bbox\"] for anno in hotspot[\"annotations\"]]\n",
    "        \n",
    "        # dealing with negative-valued coordinates\n",
    "        min_x0 = int(max(0, min([pt[0] for pt in points])))\n",
    "        max_x1 = int(max([pt[2] for pt in points]))\n",
    "\n",
    "        min_y0 = int(max(0, min([pt[1] for pt in points])))\n",
    "        max_y1 = int(max([pt[3] for pt in points]))\n",
    "\n",
    "        img = cv2.imread(hotspot[\"file_name\"])\n",
    "\n",
    "\n",
    "        cropped = img[min_y0:max_y1, min_x0:max_x1, :]\n",
    "\n",
    "\n",
    "        # adjust points - new origin is min_x0, min_y0\n",
    "\n",
    "\n",
    "        new_hotspot[\"height\"] = cropped.shape[0]\n",
    "        new_hotspot[\"width\"] = cropped.shape[1]\n",
    "        new_hotspot[\"file_name\"] = basename(hotspot[\"file_name\"])\n",
    "        new_hotspot[\"bbox_mode\"] = BoxMode.XYXY_ABS\n",
    "\n",
    "        for anno in new_hotspot[\"annotations\"]:\n",
    "            old_bbox = anno[\"bbox\"]\n",
    "\n",
    "            anno[\"bbox\"] = [\n",
    "                max(0, old_bbox[0]) - min_x0,\n",
    "                old_bbox[1] - min_y0,\n",
    "                old_bbox[2] - min_x0,\n",
    "                old_bbox[3] - min_y0,\n",
    "            ]\n",
    "\n",
    "        \n",
    "\n",
    "        cv2.imwrite(outfolder + \"/\" + new_hotspot[\"file_name\"], cropped)\n",
    "        autocropped_hotspots.append(new_hotspot)\n",
    "        visualizer = Visualizer(cropped[:, :, ::-1], scale=0.5, metadata={\"thing_classes\": sign_ids})\n",
    "        out = visualizer.draw_dataset_dict(new_hotspot)\n",
    "        cv2.imwrite(annotated + \"/\" + basename(hotspot[\"file_name\"]), out.get_image()[:, :, ::-1])\n"
   ]
  },
  {
   "cell_type": "code",
   "execution_count": null,
   "metadata": {},
   "outputs": [],
   "source": []
  }
 ]
}
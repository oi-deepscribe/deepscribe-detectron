{
 "metadata": {
  "language_info": {
   "codemirror_mode": {
    "name": "ipython",
    "version": 3
   },
   "file_extension": ".py",
   "mimetype": "text/x-python",
   "name": "python",
   "nbconvert_exporter": "python",
   "pygments_lexer": "ipython3",
   "version": "3.7.8-final"
  },
  "orig_nbformat": 2,
  "kernelspec": {
   "name": "python3",
   "display_name": "Python 3"
  }
 },
 "nbformat": 4,
 "nbformat_minor": 2,
 "cells": [
  {
   "cell_type": "code",
   "execution_count": 1,
   "metadata": {},
   "outputs": [],
   "source": [
    "import json\n",
    "from sklearn.model_selection import train_test_split\n",
    "import os\n",
    "import shutil\n",
    "from detectron2.utils.visualizer import Visualizer\n",
    "from detectron2.data import MetadataCatalog, DatasetCatalog\n"
   ]
  },
  {
   "cell_type": "code",
   "execution_count": 2,
   "metadata": {},
   "outputs": [],
   "source": [
    "with open(\"imagesWithHotspots.txt\", \"r\") as infile:\n",
    "    annotations = [line.strip() for line in infile.readlines() if len(line.strip()) > 0]"
   ]
  },
  {
   "cell_type": "code",
   "execution_count": 8,
   "metadata": {
    "tags": []
   },
   "outputs": [],
   "source": [
    "imagefolder=\"images_renamed\"\n",
    "\n",
    "dataset = []\n",
    "# collecting all signs and readings\n",
    "sign_ids = list()\n",
    "reading_ids = list()\n",
    "for anno in annotations:\n",
    "\n",
    "    try:\n",
    "\n",
    "        textname, size, hotspots = anno.split(\":\")\n",
    "\n",
    "        uuid =  textname.split(\"_\")[0]\n",
    "\n",
    "        height, width = [int(val) for val in size.split(\"x\")]\n",
    "\n",
    "        fname = f\"{imagefolder}/{uuid}.jpg\"\n",
    "    except ValueError as e:\n",
    "        print(anno)\n",
    "        pass\n",
    "\n",
    "    annos = []\n",
    "\n",
    "    try:\n",
    "\n",
    "        for hotspot in hotspots.split(\";\"):\n",
    "            if len(hotspot) > 0:\n",
    "                classes, coordslist = hotspot.split(\"~\")\n",
    "\n",
    "                sign,reading = [elem.split(\"_\")[1] for elem in classes.split(\"/\")]\n",
    "                # assign the sign and reading ID \n",
    "        \n",
    "                if sign not in sign_ids:\n",
    "                    sign_ids.append(sign)\n",
    "\n",
    "                sign_id = sign_ids.index(sign)\n",
    "\n",
    "                if reading not in reading_ids:\n",
    "                    reading_ids.append(reading)\n",
    "\n",
    "                reading_id = reading_ids.index(reading)\n",
    "\n",
    "                coords = [float(coord) for coord in coordslist.split(\",\")]\n",
    "                # only 1 category for now - just sign or non-sign\n",
    "                annos.append({\"bbox\": coords, \"bbox_mode\":0, \"sign\":sign, \"reading\": reading, \"sign_id\": sign_id, \"reading_id\": reading_id, \"category_id\": sign_id})\n",
    "    except ValueError as e:\n",
    "        print(\"HOTSPOT FAILURE\")\n",
    "        # print(hotspots)\n",
    "        print(hotspot)\n",
    "        pass\n",
    "\n",
    "    dataset.append({\"file_name\":fname, \"height\":height, \"width\":width, \"image_id\": uuid, \"annotations\": annos})"
   ]
  },
  {
   "cell_type": "code",
   "execution_count": 9,
   "metadata": {},
   "outputs": [],
   "source": [
    "with open(\"hotspots_labeled.json\", \"w\") as outf:\n",
    "    json.dump(dataset, outf)"
   ]
  },
  {
   "cell_type": "code",
   "execution_count": 10,
   "metadata": {},
   "outputs": [],
   "source": [
    "with open(\"signs.txt\", \"w\") as cats:\n",
    "    cats.write(\"\\n\".join(sign_ids))"
   ]
  },
  {
   "cell_type": "code",
   "execution_count": 11,
   "metadata": {},
   "outputs": [],
   "source": [
    "train_imgs, test_imgs = train_test_split(dataset, test_size=0.1)\n",
    "with open(\"hotspots_train.json\", \"w\") as outf:\n",
    "    json.dump(train_imgs, outf)\n",
    "with open(\"hotspots_test.json\", \"w\") as outf:\n",
    "    json.dump(test_imgs, outf)"
   ]
  },
  {
   "cell_type": "code",
   "execution_count": 25,
   "metadata": {
    "tags": []
   },
   "outputs": [],
   "source": [
    "for startpath in os.listdir(\"images\"):\n",
    "    # edit the paths\n",
    "    root, ext = os.path.splitext(startpath)\n",
    "    newname, _ = startpath.split(\"$\")\n",
    "    shutil.copy2(\"images/\" + startpath, imagefolder + \"/\" + newname + ext)\n"
   ]
  },
  {
   "cell_type": "code",
   "execution_count": null,
   "metadata": {},
   "outputs": [],
   "source": []
  }
 ]
}
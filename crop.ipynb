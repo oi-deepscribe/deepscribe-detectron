{
 "metadata": {
  "language_info": {
   "codemirror_mode": {
    "name": "ipython",
    "version": 3
   },
   "file_extension": ".py",
   "mimetype": "text/x-python",
   "name": "python",
   "nbconvert_exporter": "python",
   "pygments_lexer": "ipython3",
   "version": "3.7.8-final"
  },
  "orig_nbformat": 2,
  "kernelspec": {
   "name": "python3",
   "display_name": "Python 3"
  }
 },
 "nbformat": 4,
 "nbformat_minor": 2,
 "cells": [
  {
   "cell_type": "code",
   "execution_count": 5,
   "metadata": {},
   "outputs": [],
   "source": [
    "import cv2\n",
    "import json\n",
    "from copy import deepcopy\n",
    "from os.path import basename\n",
    "from tqdm import tqdm\n",
    "from detectron2.utils.visualizer import Visualizer\n",
    "from sklearn.model_selection import train_test_split\n",
    "from detectron2.data import MetadataCatalog, DatasetCatalog\n",
    "from detectron2.structures import BoxMode"
   ]
  },
  {
   "cell_type": "code",
   "execution_count": 6,
   "metadata": {},
   "outputs": [],
   "source": [
    "# autocropping images to minimize unannotated extent \n",
    "\n",
    "with open(\"hotspots_labeled.json\", \"r\") as inf:\n",
    "    hotspots = json.load(inf)"
   ]
  },
  {
   "cell_type": "code",
   "execution_count": 7,
   "metadata": {},
   "outputs": [],
   "source": [
    "with open(\"signs.txt\", \"r\") as sgns:\n",
    "    signs = [sign.strip() for sign in sgns.readlines()]"
   ]
  },
  {
   "cell_type": "code",
   "execution_count": 8,
   "metadata": {
    "tags": []
   },
   "outputs": [
    {
     "output_type": "stream",
     "name": "stderr",
     "text": "100%|██████████| 5010/5010 [32:48<00:00,  2.54it/s]\n"
    }
   ],
   "source": [
    "autocropped_hotspots = []\n",
    "\n",
    "outfolder = \"images_cropped_categories\"\n",
    "annotated = \"images_cropped_annotated_categories\"\n",
    "\n",
    "for hotspot in tqdm(hotspots):\n",
    "    # don't keep if there's only one sign!\n",
    "    # TODO: check thresholds here. \n",
    "\n",
    "    if len(hotspot[\"annotations\"]) > 1:\n",
    "        new_hotspot = deepcopy(hotspot)\n",
    "\n",
    "        points = [anno[\"bbox\"] for anno in hotspot[\"annotations\"]]\n",
    "        \n",
    "        # dealing with negative-valued coordinates\n",
    "        min_x0 = int(max(0, min([pt[0] for pt in points])))\n",
    "        max_x1 = int(max([pt[2] for pt in points]))\n",
    "\n",
    "        min_y0 = int(max(0, min([pt[1] for pt in points])))\n",
    "        max_y1 = int(max([pt[3] for pt in points]))\n",
    "\n",
    "        img = cv2.imread(hotspot[\"file_name\"])\n",
    "\n",
    "\n",
    "        cropped = img[min_y0:max_y1, min_x0:max_x1, :]\n",
    "\n",
    "\n",
    "        # adjust points - new origin is min_x0, min_y0\n",
    "\n",
    "\n",
    "        new_hotspot[\"height\"] = cropped.shape[0]\n",
    "        new_hotspot[\"width\"] = cropped.shape[1]\n",
    "        new_hotspot[\"file_name\"] = outfolder + \"/\" + basename(hotspot[\"file_name\"])\n",
    "        new_hotspot[\"bbox_mode\"] = BoxMode.XYXY_ABS\n",
    "\n",
    "        for anno in new_hotspot[\"annotations\"]:\n",
    "            old_bbox = anno[\"bbox\"]\n",
    "\n",
    "            anno[\"bbox\"] = [\n",
    "                max(0, old_bbox[0]) - min_x0,\n",
    "                old_bbox[1] - min_y0,\n",
    "                old_bbox[2] - min_x0,\n",
    "                old_bbox[3] - min_y0,\n",
    "            ]\n",
    "\n",
    "        \n",
    "\n",
    "        cv2.imwrite(new_hotspot[\"file_name\"], cropped)\n",
    "        autocropped_hotspots.append(new_hotspot)\n",
    "        visualizer = Visualizer(cropped[:, :, ::-1], scale=0.5, metadata={\"thing_classes\": signs})\n",
    "        out = visualizer.draw_dataset_dict(new_hotspot)\n",
    "        cv2.imwrite(annotated + \"/\" + basename (hotspot[\"file_name\"]), out.get_image()[:, :, ::-1])\n",
    "\n",
    "\n"
   ]
  },
  {
   "cell_type": "code",
   "execution_count": null,
   "metadata": {},
   "outputs": [],
   "source": []
  },
  {
   "cell_type": "code",
   "execution_count": 9,
   "metadata": {},
   "outputs": [],
   "source": [
    "with open(\"hotspots_labeled_autocropped.json\", \"w\") as outf:\n",
    "    json.dump(autocropped_hotspots, outf)"
   ]
  },
  {
   "cell_type": "code",
   "execution_count": 10,
   "metadata": {
    "tags": []
   },
   "outputs": [],
   "source": [
    "train_hotspots, test_hotspots = train_test_split(autocropped_hotspots, test_size=0.15)\n",
    "\n",
    "with open(\"hotspots_labeled_train.json\", \"w\") as outf:\n",
    "    json.dump(train_hotspots, outf)\n",
    "\n",
    "\n",
    "with open(\"hotspots_labeled_test.json\", \"w\") as outf:\n",
    "    json.dump(test_hotspots, outf)\n",
    "\n"
   ]
  },
  {
   "cell_type": "code",
   "execution_count": null,
   "metadata": {},
   "outputs": [],
   "source": []
  }
 ]
}